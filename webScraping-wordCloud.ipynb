{
 "cells": [
  {
   "cell_type": "markdown",
   "metadata": {},
   "source": [
    "# COLECTING INFORMATION ON **TECNOLOGIA** FROM BRAZILIAN WEBSITE **G1** AND SHOWING AS A WORD CLOUD\n",
    "\n",
    "\n",
    "Every day technology advances by leaps and bounds, it is increasingly difficult to keep up to date with so much information that arrives every minute.\n",
    "\n",
    "Regarding the size of the event, this project aims to use web scrapping to obtain information about the technological news happening in Brazil and plot it as a word cloud.\n",
    "\n",
    "The source of our information is the g1 portal, an important Brazilian news site.            "
   ]
  },
  {
   "cell_type": "markdown",
   "metadata": {},
   "source": [
    "# The Libraries \n",
    "\n",
    "We are using selenium and beautifulSoup to collect data from G1. Then, the first step is to import the required libraries.\n"
   ]
  },
  {
   "cell_type": "code",
   "execution_count": 1,
   "metadata": {},
   "outputs": [],
   "source": [
    "from selenium import webdriver\n",
    "from selenium.webdriver.chrome.options import Options\n",
    "import time\n",
    "import requests\n",
    "from bs4 import BeautifulSoup"
   ]
  },
  {
   "cell_type": "markdown",
   "metadata": {},
   "source": [
    "# Reading the website\n",
    "\n",
    "To cut some steps, we are retrieving data from the search result page in G1 (https://g1.globo.com/busca/?q=tecnologia&page=1)\n"
   ]
  },
  {
   "cell_type": "code",
   "execution_count": 2,
   "metadata": {},
   "outputs": [],
   "source": [
    "url = 'https://g1.globo.com/busca/?q=tecnologia&page=1' # The url we are using to access\n"
   ]
  },
  {
   "cell_type": "markdown",
   "metadata": {},
   "source": [
    "Then, let's set up the option to prevent google from opening while the code is running."
   ]
  },
  {
   "cell_type": "code",
   "execution_count": 3,
   "metadata": {},
   "outputs": [],
   "source": [
    "option = Options() \n",
    "option.headless = True "
   ]
  },
  {
   "cell_type": "markdown",
   "metadata": {},
   "source": [
    "You can use several browsers with selenium. In this project, we are using Google Chrome. \n",
    "\n",
    "To download your driver, click here: https://chromedriver.chromium.org/downloads \n",
    "\n",
    "Do not forget to find the correct version (according to your system and number)."
   ]
  },
  {
   "cell_type": "code",
   "execution_count": 4,
   "metadata": {
    "scrolled": true
   },
   "outputs": [
    {
     "name": "stderr",
     "output_type": "stream",
     "text": [
      "/tmp/ipykernel_196981/720208630.py:1: DeprecationWarning: executable_path has been deprecated, please pass in a Service object\n",
      "  driver = webdriver.Chrome('/usr/bin/chromedriver', options=option)\n"
     ]
    }
   ],
   "source": [
    "driver = webdriver.Chrome('/usr/bin/chromedriver', options=option)\n",
    "driver.get(url)"
   ]
  },
  {
   "cell_type": "markdown",
   "metadata": {},
   "source": [
    "As the page loads with more news and interests us, we use 'execute_script' to scroll the page and show more."
   ]
  },
  {
   "cell_type": "code",
   "execution_count": 5,
   "metadata": {
    "scrolled": false
   },
   "outputs": [],
   "source": [
    "driver.execute_script(\"window.scrollTo(0, document.body.scrollHeight);\")\n",
    "time.sleep(10) #Waiting to have all data loaded"
   ]
  },
  {
   "cell_type": "markdown",
   "metadata": {},
   "source": [
    "# Finding the content\n",
    "\n",
    "Selenium works by retrieving data from webpage source code. To get the code, use Ctrl + U in google chrome.\n",
    "\n",
    "Find the tag where the content (title and summary) of the data we want to analyze is. \n",
    "\n",
    "In this project, the element of the html is 'content'. Get the HTML using function get_attribute.\n",
    "\n",
    "Finally, after quitting the browser,  Beautifulsoup converts the HTML to a better structure to manage the information. "
   ]
  },
  {
   "cell_type": "code",
   "execution_count": 6,
   "metadata": {},
   "outputs": [
    {
     "name": "stdout",
     "output_type": "stream",
     "text": [
      "<selenium.webdriver.remote.webelement.WebElement (session=\"38234567eedfaaafcd51d50d416ff48f\", element=\"a12cdf1d-baed-4589-981d-2dad453257b5\")>\n"
     ]
    },
    {
     "name": "stderr",
     "output_type": "stream",
     "text": [
      "/tmp/ipykernel_196981/3148676045.py:1: DeprecationWarning: find_element_by_* commands are deprecated. Please use find_element() instead\n",
      "  element = driver.find_element_by_id(\"content\")\n"
     ]
    }
   ],
   "source": [
    "element = driver.find_element_by_id(\"content\")\n",
    "html = element.get_attribute('outerHTML')\n",
    "print(element)\n",
    "html = element.get_attribute('outerHTML')\n",
    "driver.quit() #closes the browser \n",
    "\n",
    "soup = BeautifulSoup(html, 'lxml') #Interpretando o html"
   ]
  },
  {
   "cell_type": "markdown",
   "metadata": {},
   "source": [
    "# Title and summary\n",
    "\n",
    "We use the title (in widget--info__title product-color) and the summary (in widget--info__description) to create our database and store in 'texto'."
   ]
  },
  {
   "cell_type": "code",
   "execution_count": 7,
   "metadata": {},
   "outputs": [
    {
     "name": "stdout",
     "output_type": "stream",
     "text": [
      "titulo   UEM terá laboratório com tecnologia capaz de desenvolver vacinas\n",
      "    \n",
      "titulo   Empresas de inovação e tecnologia crescem no RS\n",
      "    \n",
      "titulo   Hospital das Clínicas da UFTM em Uberaba passa a contar com microscópio de tecnologia avançada em cirurgias do cérebro\n",
      "    \n",
      "titulo   Tecnologia auxilia na qualidade das sementes vendidas no país\n",
      "    \n",
      "titulo   Tecnologia auxilia na qualidade das sementes vendidas no país\n",
      "    \n",
      "titulo   Tecnologia ajuda a conectar empreendedores locais em Belém\n",
      "    \n",
      "titulo   Recife faz seleção simplificada com 30 vagas para área de tecnologia e salários de até R$ 6.800\n",
      "    \n",
      "titulo   Hub de tecnologia da Ambev e startups ofertam 93 vagas de emprego; veja áreas\n",
      "    \n",
      "titulo   Placa solar feita de papelão e garrafa: como escola pública no AC se tornou referência em projetos sobre fontes renováveis de energia\n",
      "    \n",
      "titulo   Pará recebe tecnologia inclusiva que transforma texto em áudio\n",
      "    \n",
      "titulo   Caminhão da Tecnologia chega a Ceilândia com cursos gratuitos de robótica\n",
      "    \n",
      "titulo   Museu de NFTs é inaugurado nos Estados Unidos\n",
      "    \n",
      "titulo   Entenda a tecnologia que ajudou a prender Tio Comel, o maior clonador de carros do RJ\n",
      "    \n",
      "titulo   Joinville abre 100 vagas para curso gratuito em tecnologia\n",
      "    \n",
      "titulo   Petrobras desenvolve tecnologia para monitoramento remoto de plataformas\n",
      "    \n",
      "titulo   Cadê meu trampo? #01: É tipo internet? – o boom do trabalho em tecnologia\n",
      "    \n",
      "titulo   Tecnologia ajuda na volta às aulas presenciais\n",
      "    \n",
      "titulo   Professor da área de tecnologia afirma que setor tem função primordial e 'ganhou espaço' durante a pandemia\n",
      "    \n",
      "titulo   Vídeo mostra tecnologia para monitoramento remoto de plataformas\n",
      "    \n",
      "titulo   Empresas abrem vagas de emprego, estágio e trainee; veja lista\n",
      "    \n",
      "titulo   VÍDEO: Prefeitura de Uberlândia realiza reunião no metaverso; entenda o termo e como funciona\n",
      "    \n",
      "titulo   Agricultores usam tecnologia para melhorar e aumentar as produções\n",
      "    \n",
      "titulo   Tecnodicas: confira dicas de tecnologia\n",
      "    \n",
      "titulo   IFRN divulga edital com 1.262 vagas em cursos de graduação pelo Sisu\n",
      "    \n",
      "titulo   Empresa catarinense desenvolve tecnologia para mais de 40 países\n",
      "    \n",
      "titulo   Tecnologia têm ajudado a melhorar os tratamentos médicos; confira\n",
      "    \n",
      "titulo   Empresa de tecnologia abre vagas de emprego nas áreas de TI e marketing na Grande Fortaleza\n",
      "    \n",
      "  UEM terá laboratório com tecnologia capaz de desenvolver vacinas\n",
      "     Universidade Estadual de Maringá (UEM)\n",
      "Divulgação/UEM\n",
      "A Universidade Estadual de Maringá (UEM) terá um laboratório com tecnologia... Tecnologia é aliada para empresário conciliar vendas on e offline\n",
      "Quando o casal Paulo e Neusa decidiram abrir uma loja de roupas, em 1977, as formas de pagamento eram bastante restritas: cheque ou dinheiro.\n",
      "A limitação nos meios de pagamento gerava inadimplên...   Empresas de inovação e tecnologia crescem no RS\n",
      "     Mercado de Startups cresce em ritmo acelerado no estado. Já são mais de 600 em atividades.   Hospital das Clínicas da UFTM em Uberaba passa a contar com microscópio de tecnologia avançada em cirurgias do cérebro\n",
      "     Microscópio de tecnologia avançada adquirido pelo HC-UFTM para neurocirurgias\n",
      "HC-UFTM/Divulgação\n",
      "Um microscópio cirúrgico... — ... de tecnologia avançada começou a ser utilizado desde o último dia 25 de janeiro, em neurocirurgias do Hospital de Clínicas...   Tecnologia auxilia na qualidade das sementes vendidas no país\n",
      "     Segundo Governo Federal, sementes precisam ter no mínimo 60% de pureza de germinação.   Tecnologia auxilia na qualidade das sementes vendidas no país\n",
      "     Segundo Governo Federal, sementes precisam ter no mínimo 60% de pureza de germinação.   Tecnologia ajuda a conectar empreendedores locais em Belém\n",
      "     Conheça o trabalho de startup paraense.   Recife faz seleção simplificada com 30 vagas para área de tecnologia e salários de até R$ 6.800\n",
      "     ... (30), as inscrições para uma seleção simplificada com 30 vagas para profissionais da área de tecnologia da informação...   Hub de tecnologia da Ambev e startups ofertam 93 vagas de emprego; veja áreas\n",
      "     ... de tecnologia e quatro startups. As oportunidades contemplam o trabalho remoto e nos escritórios de São Paulo (P) e Curitiba (PR... — ... uma das startups de tecnologia, nos seguintes links: \n",
      "Donus: inscrição no link\n",
      "Get in: inscrição no link\n",
      "Lemon: inscrição no link\n",
      "Mercafacil... ... o Sistema Hapvida, pois entendemos que o atual momento exige uma saúde inteligente, tendo a tecnologia como aliada. Por meio...   Placa solar feita de papelão e garrafa: como escola pública no AC se tornou referência em projetos sobre fontes renováveis de energia\n",
      "     ...: ciência, tecnologia, meio ambiente e sociedade. O intuito é fazer com que os alunos entendam a ciência; saibam empregá-la no dia... — ... neste evento.\n",
      "E, apesar de ensinar de forma geral sobre ciência, tecnologia e meio ambiente, a sustentabilidade é o foco da maioria...   Pará recebe tecnologia inclusiva que transforma texto em áudio\n",
      "     Pará recebe tecnologia inclusiva que transforma texto em áudio.   Caminhão da Tecnologia chega a Ceilândia com cursos gratuitos de robótica\n",
      "     Projeto oferece capacitação profissional na área de T.I., robótica e conteúdos digitais.   Museu de NFTs é inaugurado nos Estados Unidos\n",
      "     ... americano de Washington.\n",
      "O Museu de NFT de Seattle exibe obras de arte originais, assim como explicações da tecnologia usada para dar... — ... a palavra do ano 2021 pelo dicionário Collins\n",
      "NFT: 5 pontos sobre a tecnologia que torna um arquivo digital ‘único’\n",
      "\"Não importa...   Entenda a tecnologia que ajudou a prender Tio Comel, o maior clonador de carros do RJ\n",
      "     ... tecnologia na sua linha de inteligência e investigação certamente não trará os resultados que a sociedade precisa\", disse o secretário... — ... Allan Turnowski.\n",
      "“Durante uma década não houve investimento na área de inteligência e tecnologia na Polícia Civil. A equipe...   Joinville abre 100 vagas para curso gratuito em tecnologia\n",
      "     Joinville abre 100 vagas para curso gratuito em tecnologia   Petrobras desenvolve tecnologia para monitoramento remoto de plataformas\n",
      "     Vídeo mostra tecnologia da Petrobras para monitoramento remoto de plataformas\n",
      "A Petrobras desenvolveu uma ferramenta que permite... — ... também para a implementação em refinarias.\n",
      "A tecnologia também será usada nas 15 novas plataformas que a Petrobras instalará no...   Cadê meu trampo? #01: É tipo internet? – o boom do trabalho em tecnologia\n",
      "     Até 2025 o Brasil vai demandar cerca de 800 mil profissionais pra trabalhar com tecnologia, segundo a estimativa da Brasscom... — ... (Associação Das Empresas de Tecnologia da Informação, Comunicação (TIC) e de Tecnologias Digitais). \n",
      "Nesse episódio do ‘Cadê meu...   Tecnologia ajuda na volta às aulas presenciais\n",
      "     Programa de computador vai ajudar UFPR a mapear casos de covid.   Professor da área de tecnologia afirma que setor tem função primordial e 'ganhou espaço' durante a pandemia\n",
      "     Mercado de Tecnologia da Informação\n",
      "UniFOA\n",
      "O professor dos cursos de análise e desenvolvimento de sistemas e ciências... — ... mudou a vida das pessoas, mas a tecnologia ganhou espaço, podendo diminuir os danos causados\", pontuou.\n",
      "Para André, a tecnologia... Iniciativa propõe experimentação de atividades em diferentes setores ligados à tecnologia \n",
      "getty images\n",
      "O Centro de Ciências... — ... interessados em cursos voltados às áreas de tecnologia para a edição 2022.1 do “Circuito CCT”. O evento, que acontecerá...   Vídeo mostra tecnologia para monitoramento remoto de plataformas\n",
      "     Assista a seguir.   Empresas abrem vagas de emprego, estágio e trainee; veja lista\n",
      "     ..., Nexa Tecnologia, 7Stars Ventures estão com vagas de emprego, estágio e trainee abertas. Veja abaixo detalhes dos processos seletivos... — ... de Tecnologia, Jurídico, Financeiro, Marketing e Vendas.  \n",
      "Para os restaurantes, estão disponíveis posições para o time...   VÍDEO: Prefeitura de Uberlândia realiza reunião no metaverso; entenda o termo e como funciona\n",
      "     ... do agronegócio e da tecnologia na cidade e no Brasil.\n",
      "Em divulgação oficial, o Executivo informou que a reunião foi a primeira realizada no... — ... projetos do município sobre a informatização dos serviços públicos ao primeiro Polo Agromineral do Brasil e o avanço do Polo Tecnológico...   Agricultores usam tecnologia para melhorar e aumentar as produções\n",
      "     Agricultores usam tecnologia para melhorar e aumentar as produções   Tecnodicas: confira dicas de tecnologia\n",
      "     Assista a seguir.   IFRN divulga edital com 1.262 vagas em cursos de graduação pelo Sisu\n",
      "     ... 516 vagas para cursos de licenciatura, 619 para tecnologia e 136 para engenharia. Há oportunidades em 16 campi do IFRN e são... — ... consideradas as pontuações obtidas em cada área do Enem do último ano: Linguagens, Códigos e suas Tecnologias; Matemática...   Empresa catarinense desenvolve tecnologia para mais de 40 países\n",
      "     Empresa catarinense desenvolve tecnologia para mais de 40 países   Tecnologia têm ajudado a melhorar os tratamentos médicos; confira\n",
      "     Tecnologia têm ajudado a melhorar os tratamentos médicos; confira De um lado, projetos sociais habilitados a receber recursos via lei de incentivo. De outro, grandes empresas que podem contribuir com essas iniciativas. Nem sempre o caminho de aproximação entre essas duas pontas é fácil. Aí que entra a Simbiose Social.\n",
      "Fundad...   Empresa de tecnologia abre vagas de emprego nas áreas de TI e marketing na Grande Fortaleza\n",
      "     A Tallos, startup cearense de tecnologia, está com vagas de emprego em aberto na Grande Fortaleza para profissionais de TI e para...\n"
     ]
    }
   ],
   "source": [
    "texto = []\n",
    "\n",
    "for bloco in soup.find_all(class_='widget--info__text-container'):\n",
    "    # print(bloco)\n",
    "    for href in bloco.find_all('a'):\n",
    "        titulo = href.find(class_=\"widget--info__title product-color\")\n",
    "        if(titulo != None):\n",
    "            print('titulo',titulo.text[7:-2])\n",
    "            texto.append(titulo.text[7:-2])\n",
    "        resumo = href.find(class_=\"widget--info__description\")\n",
    "        if(resumo != None):\n",
    "            # print('Resumo',resumo)\n",
    "            texto.append(resumo.text)\n",
    "texto = ' '.join(texto)\n",
    "print(texto)"
   ]
  },
  {
   "cell_type": "markdown",
   "metadata": {},
   "source": [
    "# The word cloud \n",
    "\n",
    "Now that we have the information from G1, let's show the word cloud according to the frequency of terms.\n",
    "\n",
    "In this case, we have to cut the text into words (.split), convert them to lower caption (.lower), and remove pronouns, articles, and other common words to every text (the stop words)"
   ]
  },
  {
   "cell_type": "code",
   "execution_count": 8,
   "metadata": {},
   "outputs": [],
   "source": [
    "import nltk\n",
    "\n",
    "# nltk.download('stopwords')\n",
    "\n",
    "stopwords = nltk.corpus.stopwords.words('portuguese') + ['cop']\n",
    "comment_words = ''\n",
    "\n",
    "tokens = texto.split()\n",
    "\n",
    "for i in range(len(tokens)):\n",
    "    tokens[i] = tokens[i].lower()\n",
    "    comment_words += \" \".join(tokens)+\" \""
   ]
  },
  {
   "cell_type": "markdown",
   "metadata": {},
   "source": [
    "# The plot \n",
    " \n",
    "To draw according to the theme, we use a mask as a baseline of the word cloud.\n",
    " \n",
    "The word cloud is created using the function WordCLoud. We can easily remove stopwords, decide the background color, among other attributes within the function. \n",
    " \n",
    "Matplotlib is used to draw the image."
   ]
  },
  {
   "cell_type": "code",
   "execution_count": 9,
   "metadata": {},
   "outputs": [
    {
     "data": {
      "image/png": "[encoded data removed]",
      "text/plain": [
       "<Figure size 432x288 with 1 Axes>"
      ]
     },
     "metadata": {},
     "output_type": "display_data"
    }
   ],
   "source": [
    "import matplotlib.pyplot as plt\n",
    "import numpy as np\n",
    "from PIL import Image\n",
    "#from PIL import Imagenltk.download('stopwords')\n",
    "from wordcloud import WordCloud\n",
    "\n",
    "mask = np.array(Image.open('./PythonMask2.png'))\n",
    "\n",
    "wordcloud = WordCloud(mask = mask, margin = 10,\n",
    "                background_color ='rgb(0, 0, 51)',\n",
    "                stopwords = stopwords,\n",
    "                min_font_size = 10).generate(comment_words)\n",
    "\n",
    "\n",
    "default_colors = wordcloud.to_array()\n",
    "plt.figure()\n",
    "plt.imshow(default_colors, interpolation=\"bilinear\")\n",
    "wordcloud.to_file(\"wordcloud2.png\")\n",
    "plt.axis(\"off\")\n",
    "plt.show()\n",
    "\n",
    "\n"
   ]
  },
  {
   "cell_type": "markdown",
   "metadata": {},
   "source": [
    "\n"
   ]
  },
  {
   "cell_type": "code",
   "execution_count": null,
   "metadata": {},
   "outputs": [],
   "source": [
    "\n"
   ]
  },
  {
   "cell_type": "code",
   "execution_count": null,
   "metadata": {},
   "outputs": [],
   "source": []
  }
 ],
 "metadata": {
  "kernelspec": {
   "display_name": "Python 3",
   "language": "python",
   "name": "python3"
  },
  "language_info": {
   "codemirror_mode": {
    "name": "ipython",
    "version": 3
   },
   "file_extension": ".py",
   "mimetype": "text/x-python",
   "name": "python",
   "nbconvert_exporter": "python",
   "pygments_lexer": "ipython3",
   "version": "3.8.10"
  }
 },
 "nbformat": 4,
 "nbformat_minor": 2
}
